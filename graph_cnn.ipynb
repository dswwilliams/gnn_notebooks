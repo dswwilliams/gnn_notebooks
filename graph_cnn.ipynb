{
 "cells": [
  {
   "cell_type": "markdown",
   "metadata": {},
   "source": [
    "### Re-implementing GCNConv layer in PyTorch Geometric for personal understanding"
   ]
  },
  {
   "cell_type": "code",
   "execution_count": 13,
   "metadata": {},
   "outputs": [],
   "source": [
    "# imports\n",
    "import torch_geometric\n",
    "import networkx as nx\n",
    "import torch_geometric.nn\n",
    "from data_gen import get_graph\n",
    "import collections\n",
    "import torch\n",
    "import math"
   ]
  },
  {
   "cell_type": "code",
   "execution_count": 14,
   "metadata": {},
   "outputs": [
    {
     "name": "stdout",
     "output_type": "stream",
     "text": [
      "n_nodes: 2518, n_edges: 15108\n"
     ]
    }
   ],
   "source": [
    "# get the first graph from the dataset\n",
    "graph = get_graph()\n",
    "\n",
    "# node features are (x,y,z) coordinates\n",
    "node_features = graph.pos\n",
    "# edge_index are dst and src pairs\n",
    "edge_index = graph.edge_index\n",
    "\n",
    "n_nodes = node_features.shape[0]\n",
    "n_edges = edge_index.shape[1]\n",
    "print(f\"n_nodes: {n_nodes}, n_edges: {n_edges}\")"
   ]
  },
  {
   "cell_type": "markdown",
   "metadata": {},
   "source": [
    "Get graph in a more convenient \"adjacency list\"-esque form:"
   ]
  },
  {
   "cell_type": "code",
   "execution_count": 15,
   "metadata": {},
   "outputs": [],
   "source": [
    "# preprocess graph to get list of neighbors for each node\n",
    "graph_dict = collections.defaultdict(list)\n",
    "for i in range(edge_index.shape[1]):\n",
    "    src = edge_index[0, i].item()\n",
    "    dst = edge_index[1, i].item()\n",
    "    graph_dict[dst].append(src)"
   ]
  },
  {
   "cell_type": "markdown",
   "metadata": {},
   "source": [
    "Define torch_geometric graph conv layer and process graph to get the target output:"
   ]
  },
  {
   "cell_type": "code",
   "execution_count": 16,
   "metadata": {},
   "outputs": [
    {
     "name": "stdout",
     "output_type": "stream",
     "text": [
      "target_output torch.Size([2518, 10]) \n",
      "tensor([ 0.0014,  0.0064,  0.0056, -0.0176, -0.0161,  0.0093, -0.0175, -0.0085,\n",
      "        -0.0165,  0.0037], grad_fn=<SelectBackward0>)\n"
     ]
    }
   ],
   "source": [
    "torch.manual_seed(1)\n",
    "target_layer = torch_geometric.nn.GCNConv(3, 10, normalize=True, add_self_loops=True, bias=False, aggr=\"sum\")\n",
    "target_output = target_layer(node_features, edge_index)\n",
    "print(f\"target_output {target_output.shape} \\n{target_output[0]}\")"
   ]
  },
  {
   "cell_type": "markdown",
   "metadata": {},
   "source": [
    "Get equivalent torch linear layer:"
   ]
  },
  {
   "cell_type": "code",
   "execution_count": 17,
   "metadata": {},
   "outputs": [],
   "source": [
    "# get weight and bias from torch_geometric layer\n",
    "for name, param in target_layer.named_parameters():\n",
    "    if \"weight\" in name:\n",
    "        target_weight = param\n",
    "    if name == \"bias\":\n",
    "        target_bias = param\n",
    "\n",
    "# load in GCN weights and bias to a torch.nn.Linear layer\n",
    "layer = torch.nn.Linear(3, 10, bias=None)\n",
    "layer.weight = target_weight"
   ]
  },
  {
   "cell_type": "markdown",
   "metadata": {},
   "source": [
    "Loop through nodes and manually apply aggregation and linear projection of node features:"
   ]
  },
  {
   "cell_type": "code",
   "execution_count": 18,
   "metadata": {},
   "outputs": [],
   "source": [
    "output = []\n",
    "for i in range(node_features.shape[0]):\n",
    "    # get feature for current node\n",
    "    curr_node_feature = node_features[i]\n",
    "\n",
    "    # get neighbouring node features\n",
    "    n_neighbours = len(graph_dict[i])\n",
    "    aggregated_neighbor_features = torch.zeros(3)\n",
    "    for neighbour_node in graph_dict[i]:\n",
    "        neighbor_feature = node_features[neighbour_node]\n",
    "        aggregated_neighbor_features += neighbor_feature\n",
    "\n",
    "    # calculate new node feature\n",
    "    new_node_feature = layer(curr_node_feature) + layer(aggregated_neighbor_features)\n",
    "    new_node_feature = new_node_feature / (n_neighbours + 1)\n",
    "    output.append(new_node_feature)\n",
    "output = torch.stack(output)\n"
   ]
  },
  {
   "cell_type": "markdown",
   "metadata": {},
   "source": [
    "Evaluate to make sure that both methods are the same:"
   ]
  },
  {
   "cell_type": "code",
   "execution_count": 19,
   "metadata": {},
   "outputs": [
    {
     "name": "stdout",
     "output_type": "stream",
     "text": [
      "Success\n"
     ]
    }
   ],
   "source": [
    "result = torch.isclose(target_output, output).float().mean()\n",
    "if result == 1:\n",
    "    print(\"Success\")\n",
    "else:\n",
    "    print(f\"Failed - only {result} of the values are close to the target output.\")\n"
   ]
  }
 ],
 "metadata": {
  "kernelspec": {
   "display_name": "nlp",
   "language": "python",
   "name": "python3"
  },
  "language_info": {
   "codemirror_mode": {
    "name": "ipython",
    "version": 3
   },
   "file_extension": ".py",
   "mimetype": "text/x-python",
   "name": "python",
   "nbconvert_exporter": "python",
   "pygments_lexer": "ipython3",
   "version": "3.8.19"
  }
 },
 "nbformat": 4,
 "nbformat_minor": 2
}
