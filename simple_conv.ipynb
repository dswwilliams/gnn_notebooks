{
 "cells": [
  {
   "cell_type": "markdown",
   "metadata": {},
   "source": [
    "## Making sure we can implement basic non-parameterised conv layer"
   ]
  },
  {
   "cell_type": "code",
   "execution_count": 1,
   "metadata": {},
   "outputs": [],
   "source": [
    "# imports\n",
    "import torch_geometric\n",
    "import networkx as nx\n",
    "import torch_geometric.nn\n",
    "from data_gen import get_graph\n",
    "import collections\n",
    "import torch\n",
    "import math"
   ]
  },
  {
   "cell_type": "code",
   "execution_count": 2,
   "metadata": {},
   "outputs": [
    {
     "name": "stdout",
     "output_type": "stream",
     "text": [
      "n_nodes: 2518, n_edges: 15108\n"
     ]
    }
   ],
   "source": [
    "# get the first graph from the dataset\n",
    "graph = get_graph()\n",
    "\n",
    "# node features are (x,y,z) coordinates\n",
    "node_features = graph.pos\n",
    "# edge_index are dst and src pairs\n",
    "edge_index = graph.edge_index\n",
    "\n",
    "n_nodes = node_features.shape[0]\n",
    "n_edges = edge_index.shape[1]\n",
    "print(f\"n_nodes: {n_nodes}, n_edges: {n_edges}\")"
   ]
  },
  {
   "cell_type": "markdown",
   "metadata": {},
   "source": [
    "Get graph in a more convenient \"adjacency list\"-esque form:"
   ]
  },
  {
   "cell_type": "code",
   "execution_count": 3,
   "metadata": {},
   "outputs": [],
   "source": [
    "# preprocess graph to get list of neighbors for each node\n",
    "graph_dict = collections.defaultdict(list)\n",
    "for i in range(edge_index.shape[1]):\n",
    "    src = edge_index[0, i].item()\n",
    "    dst = edge_index[1, i].item()\n",
    "    graph_dict[dst].append(src)"
   ]
  },
  {
   "cell_type": "code",
   "execution_count": 4,
   "metadata": {},
   "outputs": [
    {
     "name": "stdout",
     "output_type": "stream",
     "text": [
      "target output torch.Size([2518, 3]) \n",
      "tensor([-0.0642, -0.1196,  0.2208])\n"
     ]
    }
   ],
   "source": [
    "# testing simple conv\n",
    "simple_conv = torch_geometric.nn.SimpleConv(aggr=\"sum\", combine_root=\"self_loop\")\n",
    "target_output = simple_conv(node_features, edge_index)\n",
    "print(f\"target output {target_output.shape} \\n{target_output[0]}\")"
   ]
  },
  {
   "cell_type": "code",
   "execution_count": 5,
   "metadata": {},
   "outputs": [
    {
     "name": "stdout",
     "output_type": "stream",
     "text": [
      "output torch.Size([2518, 3]) \n",
      "tensor([-0.0642, -0.1196,  0.2208])\n"
     ]
    }
   ],
   "source": [
    "output = []\n",
    "for i in range(node_features.shape[0]):\n",
    "    new_features = torch.zeros_like(node_features[i])\n",
    "\n",
    "    new_features += node_features[i]\n",
    "\n",
    "    for neighbour in graph_dict[i]:\n",
    "        new_features += node_features[neighbour]\n",
    "\n",
    "    output.append(new_features) \n",
    "\n",
    "output = torch.stack(output)\n",
    "\n",
    "print(f\"output {output.shape} \\n{output[0]}\")\n",
    "\n"
   ]
  },
  {
   "cell_type": "code",
   "execution_count": 6,
   "metadata": {},
   "outputs": [
    {
     "name": "stdout",
     "output_type": "stream",
     "text": [
      "Success\n"
     ]
    }
   ],
   "source": [
    "result = torch.isclose(target_output, output).float().mean()\n",
    "if result == 1:\n",
    "    print(\"Success\")\n",
    "else:\n",
    "    print(f\"Failed - only {result} of the values are close to the target output.\")\n"
   ]
  }
 ],
 "metadata": {
  "kernelspec": {
   "display_name": "nlp",
   "language": "python",
   "name": "python3"
  },
  "language_info": {
   "codemirror_mode": {
    "name": "ipython",
    "version": 3
   },
   "file_extension": ".py",
   "mimetype": "text/x-python",
   "name": "python",
   "nbconvert_exporter": "python",
   "pygments_lexer": "ipython3",
   "version": "3.8.19"
  }
 },
 "nbformat": 4,
 "nbformat_minor": 2
}
