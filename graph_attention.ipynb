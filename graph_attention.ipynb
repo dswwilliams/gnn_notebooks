{
 "cells": [
  {
   "cell_type": "markdown",
   "metadata": {},
   "source": [
    "### Re-implementing GATConv layer in PyTorch Geometric for personal understanding\n",
    "- this layer uses the graph attention layer from Graph Attention Networks (https://arxiv.org/abs/1710.10903)"
   ]
  },
  {
   "cell_type": "code",
   "execution_count": 247,
   "metadata": {},
   "outputs": [],
   "source": [
    "# imports\n",
    "import torch_geometric\n",
    "import networkx as nx\n",
    "import torch_geometric.nn\n",
    "from data_gen import get_graph\n",
    "import collections\n",
    "import torch"
   ]
  },
  {
   "cell_type": "code",
   "execution_count": 248,
   "metadata": {},
   "outputs": [
    {
     "name": "stdout",
     "output_type": "stream",
     "text": [
      "n_nodes: 2518, n_edges: 15108\n"
     ]
    }
   ],
   "source": [
    "# get the first graph from the dataset\n",
    "graph = get_graph()\n",
    "\n",
    "# node features are (x,y,z) coordinates, shape = [n_nodes, 3]\n",
    "node_features = graph.pos\n",
    "\n",
    "# edge_index are dst and src pairs, shape = [2, n_edges]\n",
    "edge_index = graph.edge_index\n",
    "\n",
    "n_nodes = node_features.shape[0]\n",
    "n_edges = edge_index.shape[1]       # [2, n_edges]\n",
    "print(f\"n_nodes: {n_nodes}, n_edges: {n_edges}\")"
   ]
  },
  {
   "cell_type": "markdown",
   "metadata": {},
   "source": [
    "Get graph in a more convenient \"adjacency list\"-esque form:"
   ]
  },
  {
   "cell_type": "code",
   "execution_count": 249,
   "metadata": {},
   "outputs": [],
   "source": [
    "# preprocess graph to get list of neighbors for each node\n",
    "graph_dict = collections.defaultdict(list)\n",
    "for i in range(edge_index.shape[1]):\n",
    "    src = edge_index[0, i].item()\n",
    "    dst = edge_index[1, i].item()\n",
    "    graph_dict[dst].append(src)\n",
    "\n",
    "# get mapping from (src, dst) to edge index\n",
    "edge_dict = {}\n",
    "for i in range(edge_index.shape[1]):\n",
    "    src = edge_index[0, i].item()\n",
    "    dst = edge_index[1, i].item()\n",
    "    edge_dict[(src, dst)] = i"
   ]
  },
  {
   "cell_type": "markdown",
   "metadata": {},
   "source": [
    "Define torch_geometric graph conv layer and process graph to get the target output:"
   ]
  },
  {
   "cell_type": "code",
   "execution_count": 250,
   "metadata": {},
   "outputs": [],
   "source": [
    "torch.manual_seed(3)\n",
    "target_layer = torch_geometric.nn.GATConv(3, 10, add_self_loops=False, bias=False, aggr=\"sum\", concat=True, negative_slope=0.2, dropout=0, fill_value=0.0, heads=1)\n",
    "target_layer.eval()\n",
    "\n",
    "old_node_features = node_features.clone()\n",
    "target_output, (new_edge_idxs, attn_weights) = target_layer(node_features, edge_index, return_attention_weights=True)"
   ]
  },
  {
   "cell_type": "markdown",
   "metadata": {},
   "source": [
    "Get equivalent torch linear layer:"
   ]
  },
  {
   "cell_type": "code",
   "execution_count": 251,
   "metadata": {},
   "outputs": [
    {
     "name": "stdout",
     "output_type": "stream",
     "text": [
      "att_src torch.Size([1, 1, 10])\n",
      "att_dst torch.Size([1, 1, 10])\n",
      "lin.weight torch.Size([10, 3])\n"
     ]
    }
   ],
   "source": [
    "# get weight and bias from torch_geometric layer\n",
    "for name, param in target_layer.named_parameters():\n",
    "    print(name, param.shape)\n",
    "    if name == \"lin.weight\":\n",
    "        target_weight = param\n",
    "    elif name == \"att_src\":\n",
    "        att_src = param\n",
    "    elif name == \"att_dst\":\n",
    "        att_dst = param\n",
    "\n",
    "# load in GATConv weights to a torch.nn.Linear layer\n",
    "layer = torch.nn.Linear(3, 10, bias=False)\n",
    "layer.weight = target_weight"
   ]
  },
  {
   "cell_type": "markdown",
   "metadata": {},
   "source": [
    "Loop through nodes and manually calculate attention weights and new features for each node:"
   ]
  },
  {
   "cell_type": "code",
   "execution_count": 252,
   "metadata": {},
   "outputs": [],
   "source": [
    "\n",
    "output = []\n",
    "for i in range(node_features.shape[0]):\n",
    "    # get projected feature for current node\n",
    "    curr_feature = layer(node_features[i])\n",
    "\n",
    "    # calculate projected features and attention weights for each neighbour\n",
    "    weights = []\n",
    "    neighbour_features = []\n",
    "    for neighbour_node in graph_dict[i]:\n",
    "        neighbour_feature = layer(node_features[neighbour_node])\n",
    "        neighbour_features.append(neighbour_feature)\n",
    "\n",
    "        weight = torch.dot(neighbour_feature.squeeze(), att_src.squeeze()) + torch.dot(curr_feature.squeeze(), att_dst.squeeze())\n",
    "        weights.append(weight)\n",
    "\n",
    "    # normalise weights\n",
    "    weights = torch.stack(weights)\n",
    "    weights = torch.nn.functional.leaky_relu(weights, negative_slope=0.2)\n",
    "    weights = torch.softmax(weights, dim=0)\n",
    "    \n",
    "    # calculate new feature for current node\n",
    "    new_feature = 0\n",
    "    for j in range(len(neighbour_features)):\n",
    "        new_feature += weights[j] * neighbour_features[j]\n",
    "\n",
    "    output.append(new_feature)\n",
    "\n",
    "output = torch.stack(output)"
   ]
  },
  {
   "cell_type": "markdown",
   "metadata": {},
   "source": [
    "Evaluate to make sure that both methods are the same:"
   ]
  },
  {
   "cell_type": "code",
   "execution_count": 253,
   "metadata": {},
   "outputs": [
    {
     "name": "stdout",
     "output_type": "stream",
     "text": [
      "Success\n"
     ]
    }
   ],
   "source": [
    "result = torch.isclose(target_output, output).float().mean()\n",
    "if result == 1:\n",
    "    print(\"Success\")\n",
    "else:\n",
    "    print(f\"Failed - only {result*100}% of the values are close to the target output.\")\n"
   ]
  }
 ],
 "metadata": {
  "kernelspec": {
   "display_name": "nlp",
   "language": "python",
   "name": "python3"
  },
  "language_info": {
   "codemirror_mode": {
    "name": "ipython",
    "version": 3
   },
   "file_extension": ".py",
   "mimetype": "text/x-python",
   "name": "python",
   "nbconvert_exporter": "python",
   "pygments_lexer": "ipython3",
   "version": "3.8.19"
  }
 },
 "nbformat": 4,
 "nbformat_minor": 2
}
